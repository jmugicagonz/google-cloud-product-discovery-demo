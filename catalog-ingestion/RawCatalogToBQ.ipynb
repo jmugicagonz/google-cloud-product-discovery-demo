{
 "cells": [
  {
   "cell_type": "markdown",
   "id": "95549d22",
   "metadata": {},
   "source": [
    "# From raw catalog in JSON to catalog in JSONL suitable for BigQuery"
   ]
  },
  {
   "cell_type": "markdown",
   "id": "96e90677",
   "metadata": {},
   "source": [
    "## Preliminary steps"
   ]
  },
  {
   "cell_type": "markdown",
   "id": "0f209954",
   "metadata": {},
   "source": [
    "### Install the libraries used in this tutorial"
   ]
  },
  {
   "cell_type": "markdown",
   "id": "d36328bb",
   "metadata": {},
   "source": [
    "Library to authenticate with Google Cloud products\n"
   ]
  },
  {
   "cell_type": "code",
   "execution_count": 150,
   "id": "3fa68e8a",
   "metadata": {},
   "outputs": [
    {
     "name": "stdout",
     "output_type": "stream",
     "text": [
      "Requirement already satisfied: google-auth in /home/jupyter/.local/lib/python3.7/site-packages (2.15.0)\n",
      "Requirement already satisfied: six>=1.9.0 in /opt/conda/lib/python3.7/site-packages (from google-auth) (1.15.0)\n",
      "Requirement already satisfied: pyasn1-modules>=0.2.1 in /opt/conda/lib/python3.7/site-packages (from google-auth) (0.2.8)\n",
      "Requirement already satisfied: cachetools<6.0,>=2.0.0 in /opt/conda/lib/python3.7/site-packages (from google-auth) (4.2.1)\n",
      "Requirement already satisfied: rsa<5,>=3.1.4 in /opt/conda/lib/python3.7/site-packages (from google-auth) (4.7.2)\n",
      "Requirement already satisfied: pyasn1<0.5.0,>=0.4.6 in /opt/conda/lib/python3.7/site-packages (from pyasn1-modules>=0.2.1->google-auth) (0.4.8)\n",
      "Note: you may need to restart the kernel to use updated packages.\n"
     ]
    }
   ],
   "source": [
    "pip install --upgrade google-auth"
   ]
  },
  {
   "cell_type": "markdown",
   "id": "19f1a926",
   "metadata": {},
   "source": [
    "### Import the necessary libraries"
   ]
  },
  {
   "cell_type": "markdown",
   "id": "8a358d09",
   "metadata": {},
   "source": [
    "Google Cloud client library for Cloud Storage (GCS)"
   ]
  },
  {
   "cell_type": "code",
   "execution_count": 151,
   "id": "61e48eb1",
   "metadata": {},
   "outputs": [],
   "source": [
    "from google.cloud import storage"
   ]
  },
  {
   "cell_type": "markdown",
   "id": "faa8e858",
   "metadata": {},
   "source": [
    "### Define global project variables and credentials"
   ]
  },
  {
   "cell_type": "code",
   "execution_count": 162,
   "id": "a55dd1cb",
   "metadata": {},
   "outputs": [],
   "source": [
    "# The name for the new bucket. Change the bucker name to an unique bucket name.\n",
    "bucket_name = \"pod-fr-retail-retailsearch-asset\"\n",
    "# The name for the file to import from GCS\n",
    "blob_name = \"products.json\"\n",
    "# The name for the JSONL file to write back in GCS\n",
    "destination_blob_name = \"products_bq.json\""
   ]
  },
  {
   "cell_type": "markdown",
   "id": "ea469f4b",
   "metadata": {},
   "source": [
    "### Define functions"
   ]
  },
  {
   "cell_type": "markdown",
   "id": "695494de",
   "metadata": {},
   "source": [
    "Function to read content of a blob in GCS and parse as a JSON"
   ]
  },
  {
   "cell_type": "code",
   "execution_count": 153,
   "id": "f6e1e00e",
   "metadata": {},
   "outputs": [],
   "source": [
    "def read_blob(bucket_name, blob_name):\n",
    "    # The ID of your GCS bucket\n",
    "    # bucket_name = \"your-bucket-name\"\n",
    "\n",
    "    # The ID of your new GCS object\n",
    "    # blob_name = \"storage-object-name\"\n",
    "\n",
    "    storage_client = storage.Client()\n",
    "    bucket = storage_client.bucket(bucket_name)\n",
    "    blob = bucket.blob(blob_name)\n",
    "\n",
    "    with blob.open(\"r\") as f:\n",
    "        return json.load(f)"
   ]
  },
  {
   "cell_type": "markdown",
   "id": "eac035ec",
   "metadata": {},
   "source": [
    "Function to write content into a blob and upload it to GCS"
   ]
  },
  {
   "cell_type": "code",
   "execution_count": 154,
   "id": "f1969daa",
   "metadata": {},
   "outputs": [],
   "source": [
    "def upload_blob(bucket_name, source_file_name, destination_blob_name):\n",
    "    \"\"\"Uploads a file to the bucket.\"\"\"\n",
    "    # The ID of your GCS bucket\n",
    "    # bucket_name = \"your-bucket-name\"\n",
    "    # The path to your file to upload\n",
    "    # source_file_name = \"local/path/to/file\"\n",
    "    # The ID of your GCS object\n",
    "    # destination_blob_name = \"storage-object-name\"\n",
    "\n",
    "    storage_client = storage.Client()\n",
    "    bucket = storage_client.bucket(bucket_name)\n",
    "    blob = bucket.blob(destination_blob_name)\n",
    "\n",
    "    blob.upload_from_filename(source_file_name)\n",
    "\n",
    "    print(\n",
    "        f\"File {source_file_name} uploaded to {destination_blob_name}.\"\n",
    "    )"
   ]
  },
  {
   "cell_type": "markdown",
   "id": "fbb4db89",
   "metadata": {},
   "source": [
    "## Process"
   ]
  },
  {
   "cell_type": "markdown",
   "id": "a5bb2504",
   "metadata": {},
   "source": [
    "Read blob from GCS"
   ]
  },
  {
   "cell_type": "code",
   "execution_count": 155,
   "id": "68ec8a52",
   "metadata": {},
   "outputs": [],
   "source": [
    "products_blob = read_blob(bucket_name, blob_name)\n"
   ]
  },
  {
   "cell_type": "markdown",
   "id": "b7afe9e6",
   "metadata": {},
   "source": [
    "Transform categories into Retail API format (see https://cloud.google.com/retail/docs/reference/rest/v2/projects.locations.catalogs.branches.products)"
   ]
  },
  {
   "cell_type": "code",
   "execution_count": 156,
   "id": "6f8ac6ed",
   "metadata": {},
   "outputs": [],
   "source": [
    "for product in products_blob:\n",
    "    product[\"category\"] = (' > '.join(category[\"name\"] for category in product[\"category\"]))"
   ]
  },
  {
   "cell_type": "markdown",
   "id": "9ca47b6a",
   "metadata": {},
   "source": [
    "Transform JSON into JSONL format (see https://stackoverflow.com/questions/51300674/converting-json-into-newline-delimited-json-in-python/51301075#51301075)"
   ]
  },
  {
   "cell_type": "code",
   "execution_count": 157,
   "id": "4fb038eb",
   "metadata": {},
   "outputs": [],
   "source": [
    "contents = ('\\n'.join([json.dumps(record) for record in products_blob]))"
   ]
  },
  {
   "cell_type": "markdown",
   "id": "c5dac13f",
   "metadata": {},
   "source": [
    "Write contents into a file"
   ]
  },
  {
   "cell_type": "code",
   "execution_count": 158,
   "id": "3c0d22fa",
   "metadata": {},
   "outputs": [
    {
     "data": {
      "text/plain": [
       "35089846"
      ]
     },
     "execution_count": 158,
     "metadata": {},
     "output_type": "execute_result"
    }
   ],
   "source": [
    "output = open(destination_blob_name, 'w')\n",
    "output.write(contents)"
   ]
  },
  {
   "cell_type": "markdown",
   "id": "aa79eff5",
   "metadata": {},
   "source": [
    "Upload file to GCS"
   ]
  },
  {
   "cell_type": "code",
   "execution_count": 160,
   "id": "228583bf",
   "metadata": {},
   "outputs": [
    {
     "name": "stdout",
     "output_type": "stream",
     "text": [
      "File products_bq.json uploaded to products_bq.json.\n"
     ]
    }
   ],
   "source": [
    "upload_blob(bucket_name, destination_blob_name, destination_blob_name)"
   ]
  }
 ],
 "metadata": {
  "environment": {
   "name": "common-cpu.m65",
   "type": "gcloud",
   "uri": "gcr.io/deeplearning-platform-release/base-cpu:m65"
  },
  "kernelspec": {
   "display_name": "Python 3",
   "language": "python",
   "name": "python3"
  },
  "language_info": {
   "codemirror_mode": {
    "name": "ipython",
    "version": 3
   },
   "file_extension": ".py",
   "mimetype": "text/x-python",
   "name": "python",
   "nbconvert_exporter": "python",
   "pygments_lexer": "ipython3",
   "version": "3.7.10"
  }
 },
 "nbformat": 4,
 "nbformat_minor": 5
}
